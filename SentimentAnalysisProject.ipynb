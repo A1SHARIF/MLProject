{
 "cells": [
  {
   "cell_type": "code",
   "execution_count": null,
   "id": "0d125c68",
   "metadata": {},
   "outputs": [],
   "source": [
    "import pandas as pd\n",
    "import numpy as np\n",
    "import matplotlib.pyplot as plt\n",
    "import seaborn as sns\n",
    "import nltk\n",
    "from nltk.corpus import stopwords\n",
    "\n",
    "\n",
    "print(\"All imports successful!\")\n"
   ]
  },
  {
   "cell_type": "code",
   "execution_count": null,
   "id": "11e46594",
   "metadata": {},
   "outputs": [],
   "source": [
    "import pandas as pd\n",
    "\n",
    "# Load CSV file\n",
    "df = pd.read_csv(\"IMDB Dataset.csv\")\n",
    "\n",
    "# Preview first 5 rows\n",
    "df.head(10)\n"
   ]
  },
  {
   "cell_type": "code",
   "execution_count": null,
   "id": "5e9c698b",
   "metadata": {},
   "outputs": [],
   "source": [
    "# Check dataset info\n",
    "df.info()\n",
    "\n",
    "# Check for missing values\n",
    "df.isnull().sum()\n",
    "\n",
    "# Check sentiment distribution\n",
    "df['sentiment'].value_counts()\n",
    "\n",
    "df.isnull().sum()\n"
   ]
  },
  {
   "cell_type": "code",
   "execution_count": null,
   "id": "6ed2c419",
   "metadata": {},
   "outputs": [],
   "source": [
    "import nltk\n",
    "nltk.download('stopwords')\n"
   ]
  },
  {
   "cell_type": "code",
   "execution_count": null,
   "id": "ccad6c7d",
   "metadata": {},
   "outputs": [],
   "source": [
    "import re \n",
    "from nltk.corpus import stopwords\n",
    "sample_review = df['review'][0]\n",
    "cleaned_review = sample_review.lower()\n",
    "cleaner_review = re.sub( r'[^a-z\\s]' , '', cleaned_review)\n",
    "stop_words = set(stopwords.words('english'))\n",
    "words = cleaner_review.split()\n",
    "words = [w for w in words if w not in stop_words]\n",
    "cleaned_text = \" \".join(words)\n",
    "print(cleaned_text)"
   ]
  },
  {
   "cell_type": "code",
   "execution_count": null,
   "id": "1307735e",
   "metadata": {},
   "outputs": [],
   "source": [
    "import re\n",
    "import pandas as pd\n",
    "from nltk.corpus import stopwords\n",
    "\n",
    "stop_words = set(stopwords.words('english'))\n",
    "\n",
    "def cleaned_text(text):\n",
    "    cleaner_review = re.sub( r'[^a-z\\s]' , '', text.lower())\n",
    "    words = cleaner_review.split()\n",
    "    words = [w for w in words if w not in stop_words]\n",
    "    cleaned_text = \" \".join(words)\n",
    "    return cleaned_text\n",
    "df = pd.read_csv(\"IMDB Dataset.csv\")\n",
    "df['clean_review'] = df['review'].apply(cleaned_text)\n",
    "df.head()\n"
   ]
  },
  {
   "cell_type": "code",
   "execution_count": null,
   "id": "fa9710ee",
   "metadata": {},
   "outputs": [],
   "source": [
    "def label(sentiment):\n",
    "    if sentiment == 'positive' :\n",
    "        return 1\n",
    "    else:\n",
    "        return 0\n",
    "\n",
    "df = pd.read_csv(\"IMDB Dataset.csv\")\n",
    "df['sentiment_label'] = df['sentiment'].apply(label)\n",
    "df['sentiment_label'].value_counts()\n"
   ]
  },
  {
   "cell_type": "code",
   "execution_count": null,
   "id": "cd6d0627",
   "metadata": {},
   "outputs": [],
   "source": [
    "from sklearn.model_selection import train_test_split\n",
    "from sklearn.feature_extraction.text import TfidfVectorizer\n",
    "\n",
    "\n",
    "df = pd.read_csv(\"IMDB Dataset.csv\")\n",
    "df['clean_review'] = df['review'].apply(cleaned_text)\n",
    "df['sentiment_label'] = df['sentiment'].apply(label)\n",
    "X = df['clean_review']\n",
    "y = df['sentiment_label']\n",
    "X_train, X_test, y_train, y_test = train_test_split(\n",
    "    X, y,\n",
    "    test_size=0.25,\n",
    "    random_state=42,\n",
    "    shuffle=True,\n",
    "    stratify=y\n",
    ")\n",
    "\n",
    "vectorizer = TfidfVectorizer(max_features=5000)  # Keep top 5000 words\n",
    "X_train_vectors = vectorizer.fit_transform(X_train)\n",
    "X_test_vectors = vectorizer.transform(X_test)\n",
    "print(X_train_vectors.shape)  # rows = number of reviews, columns = number of features\n",
    "print(X_test_vectors.shape)\n",
    "\n",
    "\n"
   ]
  },
  {
   "cell_type": "code",
   "execution_count": null,
   "id": "fd123196",
   "metadata": {},
   "outputs": [],
   "source": [
    "from sklearn.linear_model import LogisticRegression        \n",
    "from sklearn.metrics import accuracy_score, classification_report  \n",
    "import joblib\n",
    "\n",
    "model = LogisticRegression(max_iter=1000)  \n",
    "model.fit(X_train_vectors, y_train)\n",
    "y_pred = model.predict(X_test_vectors)\n",
    "# Overall accuracy\n",
    "print(\"Accuracy:\", accuracy_score(y_test, y_pred))\n",
    "\n",
    "# Detailed metrics\n",
    "print(\"Classification Report:\\n\", classification_report(y_test, y_pred))\n",
    "\n",
    "joblib.dump(model, 'sentiment_model.pkl')\n",
    "\n",
    "# Save vectorizer\n",
    "joblib.dump(vectorizer, 'tfidf_vectorizer.pkl')\n",
    "\n"
   ]
  },
  {
   "cell_type": "code",
   "execution_count": null,
   "id": "1801d449",
   "metadata": {},
   "outputs": [],
   "source": [
    "import re\n",
    "from nltk.corpus import stopwords\n",
    "import joblib\n",
    "\n",
    "def predict_sentiment(review):\n",
    "    # Load saved model and vectorizer\n",
    "    model = joblib.load('sentiment_model.pkl')\n",
    "    vectorizer = joblib.load('tfidf_vectorizer.pkl')\n",
    "    \n",
    "    # Clean the review\n",
    "    cleaned_review = re.sub(r'[^a-z\\s]', '', review.lower())\n",
    "    stop_words = set(stopwords.words('english'))\n",
    "    words = cleaned_review.split()\n",
    "    words = [w for w in words if w not in stop_words]\n",
    "    cleaned_text = \" \".join(words)\n",
    "    \n",
    "    # Convert review to numeric vector using the loaded vectorizer\n",
    "    X_new = vectorizer.transform([cleaned_text])  # Note: transform, not fit_transform\n",
    "    \n",
    "    # Make prediction\n",
    "    prediction = model.predict(X_new)\n",
    "    \n",
    "    # Return readable output\n",
    "    return \"Positive\" if prediction[0] == 1 else \"Negative\"\n",
    "\n",
    "\n",
    "\n",
    "review = \"The acting was mediocre, but the story kept me hooked till the end.\"\n",
    "print(predict_sentiment(review))\n",
    "\n",
    "\n",
    "    \n",
    "\n",
    "   \n",
    "    \n",
    "\n",
    "\n"
   ]
  }
 ],
 "metadata": {
  "kernelspec": {
   "display_name": "Python (sentiment-env)",
   "language": "python",
   "name": "sentiment-env"
  },
  "language_info": {
   "codemirror_mode": {
    "name": "ipython",
    "version": 3
   },
   "file_extension": ".py",
   "mimetype": "text/x-python",
   "name": "python",
   "nbconvert_exporter": "python",
   "pygments_lexer": "ipython3",
   "version": "3.12.6"
  }
 },
 "nbformat": 4,
 "nbformat_minor": 5
}
